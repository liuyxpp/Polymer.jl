{
 "cells": [
  {
   "cell_type": "code",
   "execution_count": 36,
   "metadata": {},
   "outputs": [
    {
     "name": "stderr",
     "output_type": "stream",
     "text": [
      "\u001b[32m\u001b[1m  Activating\u001b[22m\u001b[39m project at `d:\\packages\\Polymer_subtree.jl`\n"
     ]
    }
   ],
   "source": [
    "using Pkg\n",
    "Pkg.activate(\"d:/packages/Polymer_subtree.jl\")\n",
    "using Polymer\n",
    "using LinearAlgebra\n",
    "using ArgCheck\n",
    "using REPL: symbol_latex\n",
    "using LaTeXStrings\n",
    "using Configurations\n",
    "using YAML\n",
    "using Setfield"
   ]
  }
 ],
 "metadata": {
  "kernelspec": {
   "display_name": "Julia 1.9.0-rc1",
   "language": "julia",
   "name": "julia-1.9"
  },
  "language_info": {
   "file_extension": ".jl",
   "mimetype": "application/julia",
   "name": "julia",
   "version": "1.9.0-rc1"
  }
 },
 "nbformat": 4,
 "nbformat_minor": 2
}
