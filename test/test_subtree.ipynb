{
 "cells": [
  {
   "cell_type": "code",
   "execution_count": 32,
   "metadata": {},
   "outputs": [
    {
     "name": "stderr",
     "output_type": "stream",
     "text": [
      "\u001b[32m\u001b[1m  Activating\u001b[22m\u001b[39m project at `d:\\packages\\Polymer_subtree.jl`\n"
     ]
    }
   ],
   "source": [
    "using Pkg\n",
    "Pkg.activate(\"d:/packages/Polymer_subtree.jl\")\n",
    "using Polymer\n",
    "using LinearAlgebra\n",
    "using ArgCheck\n",
    "using REPL: symbol_latex\n",
    "using LaTeXStrings\n",
    "using Configurations\n",
    "using YAML\n",
    "using Setfield"
   ]
  },
  {
   "cell_type": "code",
   "execution_count": 33,
   "metadata": {},
   "outputs": [
    {
     "ename": "LoadError",
     "evalue": "LoadError: cannot assign a value to imported variable Polymer.BlockCopolymer from module Main\nin expression starting at d:\\packages\\Polymer_subtree.jl\\src\\types.jl:124",
     "output_type": "error",
     "traceback": [
      "LoadError: cannot assign a value to imported variable Polymer.BlockCopolymer from module Main\n",
      "in expression starting at d:\\packages\\Polymer_subtree.jl\\src\\types.jl:124\n",
      "\n",
      "Stacktrace:\n",
      " [1] top-level scope\n",
      "   @ d:\\packages\\Polymer_subtree.jl\\src\\types.jl:124"
     ]
    }
   ],
   "source": [
    "include(\"d:/packages/Polymer_subtree.jl/src/types.jl\")"
   ]
  }
 ],
 "metadata": {
  "kernelspec": {
   "display_name": "Julia 1.9.0-rc1",
   "language": "julia",
   "name": "julia-1.9"
  },
  "language_info": {
   "file_extension": ".jl",
   "mimetype": "application/julia",
   "name": "julia",
   "version": "1.9.0-rc1"
  }
 },
 "nbformat": 4,
 "nbformat_minor": 2
}
